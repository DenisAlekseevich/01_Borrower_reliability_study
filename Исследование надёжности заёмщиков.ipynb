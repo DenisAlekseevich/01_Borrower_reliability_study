{
 "cells": [
  {
   "cell_type": "markdown",
   "metadata": {},
   "source": [
    "# Исследование надёжности заёмщиков"
   ]
  },
  {
   "cell_type": "markdown",
   "metadata": {},
   "source": [
    "\n",
    "\n",
    "Заказчик — кредитный отдел банка. Нужно разобраться, влияет ли семейное положение и количество детей клиента на факт погашения кредита в срок. Входные данные от банка — статистика о платёжеспособности клиентов.\n",
    "\n",
    "Результаты исследования будут учтены при построении модели **кредитного скоринга** — специальной системы, которая оценивает способность потенциального заёмщика вернуть кредит банку."
   ]
  },
  {
   "cell_type": "markdown",
   "metadata": {},
   "source": [
    "## Откроем файл с данными и изучим общую информацию. "
   ]
  },
  {
   "cell_type": "code",
   "execution_count": 1,
   "metadata": {},
   "outputs": [],
   "source": [
    "import pandas as pd\n",
    "from pymystem3 import Mystem\n",
    "from collections import Counter"
   ]
  },
  {
   "cell_type": "code",
   "execution_count": 2,
   "metadata": {},
   "outputs": [],
   "source": [
    "data = pd.read_csv('/datasets/data.csv')"
   ]
  },
  {
   "cell_type": "code",
   "execution_count": 3,
   "metadata": {},
   "outputs": [
    {
     "name": "stdout",
     "output_type": "stream",
     "text": [
      "<class 'pandas.core.frame.DataFrame'>\n",
      "RangeIndex: 21525 entries, 0 to 21524\n",
      "Data columns (total 12 columns):\n",
      " #   Column            Non-Null Count  Dtype  \n",
      "---  ------            --------------  -----  \n",
      " 0   children          21525 non-null  int64  \n",
      " 1   days_employed     19351 non-null  float64\n",
      " 2   dob_years         21525 non-null  int64  \n",
      " 3   education         21525 non-null  object \n",
      " 4   education_id      21525 non-null  int64  \n",
      " 5   family_status     21525 non-null  object \n",
      " 6   family_status_id  21525 non-null  int64  \n",
      " 7   gender            21525 non-null  object \n",
      " 8   income_type       21525 non-null  object \n",
      " 9   debt              21525 non-null  int64  \n",
      " 10  total_income      19351 non-null  float64\n",
      " 11  purpose           21525 non-null  object \n",
      "dtypes: float64(2), int64(5), object(5)\n",
      "memory usage: 2.0+ MB\n"
     ]
    },
    {
     "data": {
      "text/plain": [
       "Index(['children', 'days_employed', 'dob_years', 'education', 'education_id',\n",
       "       'family_status', 'family_status_id', 'gender', 'income_type', 'debt',\n",
       "       'total_income', 'purpose'],\n",
       "      dtype='object')"
      ]
     },
     "metadata": {},
     "output_type": "display_data"
    },
    {
     "data": {
      "text/html": [
       "<div>\n",
       "<style scoped>\n",
       "    .dataframe tbody tr th:only-of-type {\n",
       "        vertical-align: middle;\n",
       "    }\n",
       "\n",
       "    .dataframe tbody tr th {\n",
       "        vertical-align: top;\n",
       "    }\n",
       "\n",
       "    .dataframe thead th {\n",
       "        text-align: right;\n",
       "    }\n",
       "</style>\n",
       "<table border=\"1\" class=\"dataframe\">\n",
       "  <thead>\n",
       "    <tr style=\"text-align: right;\">\n",
       "      <th></th>\n",
       "      <th>children</th>\n",
       "      <th>days_employed</th>\n",
       "      <th>dob_years</th>\n",
       "      <th>education</th>\n",
       "      <th>education_id</th>\n",
       "      <th>family_status</th>\n",
       "      <th>family_status_id</th>\n",
       "      <th>gender</th>\n",
       "      <th>income_type</th>\n",
       "      <th>debt</th>\n",
       "      <th>total_income</th>\n",
       "      <th>purpose</th>\n",
       "    </tr>\n",
       "  </thead>\n",
       "  <tbody>\n",
       "    <tr>\n",
       "      <th>0</th>\n",
       "      <td>1</td>\n",
       "      <td>-8437.673028</td>\n",
       "      <td>42</td>\n",
       "      <td>высшее</td>\n",
       "      <td>0</td>\n",
       "      <td>женат / замужем</td>\n",
       "      <td>0</td>\n",
       "      <td>F</td>\n",
       "      <td>сотрудник</td>\n",
       "      <td>0</td>\n",
       "      <td>253875.639453</td>\n",
       "      <td>покупка жилья</td>\n",
       "    </tr>\n",
       "    <tr>\n",
       "      <th>1</th>\n",
       "      <td>1</td>\n",
       "      <td>-4024.803754</td>\n",
       "      <td>36</td>\n",
       "      <td>среднее</td>\n",
       "      <td>1</td>\n",
       "      <td>женат / замужем</td>\n",
       "      <td>0</td>\n",
       "      <td>F</td>\n",
       "      <td>сотрудник</td>\n",
       "      <td>0</td>\n",
       "      <td>112080.014102</td>\n",
       "      <td>приобретение автомобиля</td>\n",
       "    </tr>\n",
       "    <tr>\n",
       "      <th>2</th>\n",
       "      <td>0</td>\n",
       "      <td>-5623.422610</td>\n",
       "      <td>33</td>\n",
       "      <td>Среднее</td>\n",
       "      <td>1</td>\n",
       "      <td>женат / замужем</td>\n",
       "      <td>0</td>\n",
       "      <td>M</td>\n",
       "      <td>сотрудник</td>\n",
       "      <td>0</td>\n",
       "      <td>145885.952297</td>\n",
       "      <td>покупка жилья</td>\n",
       "    </tr>\n",
       "    <tr>\n",
       "      <th>3</th>\n",
       "      <td>3</td>\n",
       "      <td>-4124.747207</td>\n",
       "      <td>32</td>\n",
       "      <td>среднее</td>\n",
       "      <td>1</td>\n",
       "      <td>женат / замужем</td>\n",
       "      <td>0</td>\n",
       "      <td>M</td>\n",
       "      <td>сотрудник</td>\n",
       "      <td>0</td>\n",
       "      <td>267628.550329</td>\n",
       "      <td>дополнительное образование</td>\n",
       "    </tr>\n",
       "    <tr>\n",
       "      <th>4</th>\n",
       "      <td>0</td>\n",
       "      <td>340266.072047</td>\n",
       "      <td>53</td>\n",
       "      <td>среднее</td>\n",
       "      <td>1</td>\n",
       "      <td>гражданский брак</td>\n",
       "      <td>1</td>\n",
       "      <td>F</td>\n",
       "      <td>пенсионер</td>\n",
       "      <td>0</td>\n",
       "      <td>158616.077870</td>\n",
       "      <td>сыграть свадьбу</td>\n",
       "    </tr>\n",
       "    <tr>\n",
       "      <th>5</th>\n",
       "      <td>0</td>\n",
       "      <td>-926.185831</td>\n",
       "      <td>27</td>\n",
       "      <td>высшее</td>\n",
       "      <td>0</td>\n",
       "      <td>гражданский брак</td>\n",
       "      <td>1</td>\n",
       "      <td>M</td>\n",
       "      <td>компаньон</td>\n",
       "      <td>0</td>\n",
       "      <td>255763.565419</td>\n",
       "      <td>покупка жилья</td>\n",
       "    </tr>\n",
       "    <tr>\n",
       "      <th>6</th>\n",
       "      <td>0</td>\n",
       "      <td>-2879.202052</td>\n",
       "      <td>43</td>\n",
       "      <td>высшее</td>\n",
       "      <td>0</td>\n",
       "      <td>женат / замужем</td>\n",
       "      <td>0</td>\n",
       "      <td>F</td>\n",
       "      <td>компаньон</td>\n",
       "      <td>0</td>\n",
       "      <td>240525.971920</td>\n",
       "      <td>операции с жильем</td>\n",
       "    </tr>\n",
       "    <tr>\n",
       "      <th>7</th>\n",
       "      <td>0</td>\n",
       "      <td>-152.779569</td>\n",
       "      <td>50</td>\n",
       "      <td>СРЕДНЕЕ</td>\n",
       "      <td>1</td>\n",
       "      <td>женат / замужем</td>\n",
       "      <td>0</td>\n",
       "      <td>M</td>\n",
       "      <td>сотрудник</td>\n",
       "      <td>0</td>\n",
       "      <td>135823.934197</td>\n",
       "      <td>образование</td>\n",
       "    </tr>\n",
       "    <tr>\n",
       "      <th>8</th>\n",
       "      <td>2</td>\n",
       "      <td>-6929.865299</td>\n",
       "      <td>35</td>\n",
       "      <td>ВЫСШЕЕ</td>\n",
       "      <td>0</td>\n",
       "      <td>гражданский брак</td>\n",
       "      <td>1</td>\n",
       "      <td>F</td>\n",
       "      <td>сотрудник</td>\n",
       "      <td>0</td>\n",
       "      <td>95856.832424</td>\n",
       "      <td>на проведение свадьбы</td>\n",
       "    </tr>\n",
       "    <tr>\n",
       "      <th>9</th>\n",
       "      <td>0</td>\n",
       "      <td>-2188.756445</td>\n",
       "      <td>41</td>\n",
       "      <td>среднее</td>\n",
       "      <td>1</td>\n",
       "      <td>женат / замужем</td>\n",
       "      <td>0</td>\n",
       "      <td>M</td>\n",
       "      <td>сотрудник</td>\n",
       "      <td>0</td>\n",
       "      <td>144425.938277</td>\n",
       "      <td>покупка жилья для семьи</td>\n",
       "    </tr>\n",
       "  </tbody>\n",
       "</table>\n",
       "</div>"
      ],
      "text/plain": [
       "   children  days_employed  dob_years education  education_id  \\\n",
       "0         1   -8437.673028         42    высшее             0   \n",
       "1         1   -4024.803754         36   среднее             1   \n",
       "2         0   -5623.422610         33   Среднее             1   \n",
       "3         3   -4124.747207         32   среднее             1   \n",
       "4         0  340266.072047         53   среднее             1   \n",
       "5         0    -926.185831         27    высшее             0   \n",
       "6         0   -2879.202052         43    высшее             0   \n",
       "7         0    -152.779569         50   СРЕДНЕЕ             1   \n",
       "8         2   -6929.865299         35    ВЫСШЕЕ             0   \n",
       "9         0   -2188.756445         41   среднее             1   \n",
       "\n",
       "      family_status  family_status_id gender income_type  debt   total_income  \\\n",
       "0   женат / замужем                 0      F   сотрудник     0  253875.639453   \n",
       "1   женат / замужем                 0      F   сотрудник     0  112080.014102   \n",
       "2   женат / замужем                 0      M   сотрудник     0  145885.952297   \n",
       "3   женат / замужем                 0      M   сотрудник     0  267628.550329   \n",
       "4  гражданский брак                 1      F   пенсионер     0  158616.077870   \n",
       "5  гражданский брак                 1      M   компаньон     0  255763.565419   \n",
       "6   женат / замужем                 0      F   компаньон     0  240525.971920   \n",
       "7   женат / замужем                 0      M   сотрудник     0  135823.934197   \n",
       "8  гражданский брак                 1      F   сотрудник     0   95856.832424   \n",
       "9   женат / замужем                 0      M   сотрудник     0  144425.938277   \n",
       "\n",
       "                      purpose  \n",
       "0               покупка жилья  \n",
       "1     приобретение автомобиля  \n",
       "2               покупка жилья  \n",
       "3  дополнительное образование  \n",
       "4             сыграть свадьбу  \n",
       "5               покупка жилья  \n",
       "6           операции с жильем  \n",
       "7                 образование  \n",
       "8       на проведение свадьбы  \n",
       "9     покупка жилья для семьи  "
      ]
     },
     "metadata": {},
     "output_type": "display_data"
    }
   ],
   "source": [
    "data.info()\n",
    "display(data.columns)\n",
    "display(data.head(10))"
   ]
  },
  {
   "cell_type": "markdown",
   "metadata": {},
   "source": [
    "### Вывод"
   ]
  },
  {
   "cell_type": "markdown",
   "metadata": {},
   "source": [
    "Информация о таблице показывает нам, что есть пропущенные данные в двух столбцах: 'days_employed' и 'total_income'. Количество строк, в которых данные по этим столбцам отсутствуют, равно. Возможно, эти пропуски встречаются попарно и зависят от других данных в датафрейме.\n",
    "Данные столбцов 'days_employed' и 'total_income' представлены в float64, их необходимо преобразовать в int64.\n",
    "Часть данных в столбе 'days_employed' имеют отрицательное значение, что является явной ошибкой. Их можно взять по модулю, так как в будущем они могут нам помочь в поиске строк-дубликатов в датасете. Так же при возникновинии подобных ситуаций следует обращаться к источнику данных для того, чтобы эти ошибки не повторялись в будущем. В 'education' указание образования встречается с разным регистром и их необходимо привести к общему виду - к нижнему регистру."
   ]
  },
  {
   "cell_type": "markdown",
   "metadata": {},
   "source": [
    "## Предобработка данных"
   ]
  },
  {
   "cell_type": "markdown",
   "metadata": {},
   "source": [
    "### Обработка пропусков"
   ]
  },
  {
   "cell_type": "code",
   "execution_count": 4,
   "metadata": {},
   "outputs": [
    {
     "data": {
      "text/plain": [
       "array(['сотрудник', 'пенсионер', 'компаньон', 'госслужащий',\n",
       "       'безработный', 'предприниматель', 'студент', 'в декрете'],\n",
       "      dtype=object)"
      ]
     },
     "metadata": {},
     "output_type": "display_data"
    }
   ],
   "source": [
    "data['days_employed'] = data['days_employed'].fillna(0)\n",
    "display(data['income_type'].unique())"
   ]
  },
  {
   "cell_type": "code",
   "execution_count": 5,
   "metadata": {},
   "outputs": [
    {
     "name": "stdout",
     "output_type": "stream",
     "text": [
      "<class 'pandas.core.frame.DataFrame'>\n",
      "RangeIndex: 21525 entries, 0 to 21524\n",
      "Data columns (total 12 columns):\n",
      " #   Column            Non-Null Count  Dtype  \n",
      "---  ------            --------------  -----  \n",
      " 0   children          21525 non-null  int64  \n",
      " 1   days_employed     21525 non-null  float64\n",
      " 2   dob_years         21525 non-null  int64  \n",
      " 3   education         21525 non-null  object \n",
      " 4   education_id      21525 non-null  int64  \n",
      " 5   family_status     21525 non-null  object \n",
      " 6   family_status_id  21525 non-null  int64  \n",
      " 7   gender            21525 non-null  object \n",
      " 8   income_type       21525 non-null  object \n",
      " 9   debt              21525 non-null  int64  \n",
      " 10  total_income      21525 non-null  float64\n",
      " 11  purpose           21525 non-null  object \n",
      "dtypes: float64(2), int64(5), object(5)\n",
      "memory usage: 2.0+ MB\n"
     ]
    }
   ],
   "source": [
    "income_type = data['income_type'].drop_duplicates().to_list()\n",
    "data['total_income'] = data.groupby('income_type')['total_income'].apply(lambda x: x.fillna(x.median()))\n",
    "data.info()"
   ]
  },
  {
   "cell_type": "markdown",
   "metadata": {},
   "source": [
    "#### Вывод"
   ]
  },
  {
   "cell_type": "markdown",
   "metadata": {},
   "source": [
    "В данном наборе данных пропущены значения только в столбцах 'days_employed' и 'total_income', причем пропущены они попарно. Вполне вероятно, что случайный пропуск(или пропуск при переносе из одного источника в другой) в ячейке первого столбца повлёк за собой пропуск данных и в ячейке второго столбца.\n",
    "Для решения поставленных задач данные столбца 'days_employed' не играют роли, поэтому пустые значения можно заменить на '0'.\n",
    "А на данные столбца 'total_income' мы будем полагаться при ответе на один из поставленных перед нами вопросов, поэтому пропущенные данные можно заполнить медиальным значением категории 'income_type'.\n",
    "Заполняем пропущенные значения при помощи метода fillna()"
   ]
  },
  {
   "cell_type": "markdown",
   "metadata": {},
   "source": [
    "### Замена типа данных"
   ]
  },
  {
   "cell_type": "code",
   "execution_count": 6,
   "metadata": {},
   "outputs": [
    {
     "name": "stdout",
     "output_type": "stream",
     "text": [
      "<class 'pandas.core.frame.DataFrame'>\n",
      "RangeIndex: 21525 entries, 0 to 21524\n",
      "Data columns (total 12 columns):\n",
      " #   Column            Non-Null Count  Dtype \n",
      "---  ------            --------------  ----- \n",
      " 0   children          21525 non-null  int64 \n",
      " 1   days_employed     21525 non-null  int64 \n",
      " 2   dob_years         21525 non-null  int64 \n",
      " 3   education         21525 non-null  object\n",
      " 4   education_id      21525 non-null  int64 \n",
      " 5   family_status     21525 non-null  object\n",
      " 6   family_status_id  21525 non-null  int64 \n",
      " 7   gender            21525 non-null  object\n",
      " 8   income_type       21525 non-null  object\n",
      " 9   debt              21525 non-null  int64 \n",
      " 10  total_income      21525 non-null  int64 \n",
      " 11  purpose           21525 non-null  object\n",
      "dtypes: int64(7), object(5)\n",
      "memory usage: 2.0+ MB\n"
     ]
    }
   ],
   "source": [
    "data[['days_employed', 'total_income']] = data[['days_employed', 'total_income']].astype('int')\n",
    "data.info()"
   ]
  },
  {
   "cell_type": "markdown",
   "metadata": {},
   "source": [
    "#### Вывод"
   ]
  },
  {
   "cell_type": "markdown",
   "metadata": {},
   "source": [
    "Указанные данные в столбцах 'days_employed' и 'total_income' не требуют такой точности, которую дает тип float64, поэтому их можно преобразовать в int64 методом astype()."
   ]
  },
  {
   "cell_type": "markdown",
   "metadata": {},
   "source": [
    "### Обработка дубликатов"
   ]
  },
  {
   "cell_type": "code",
   "execution_count": 7,
   "metadata": {},
   "outputs": [],
   "source": [
    "# функция приводящая отрицательные числовые значения к модулю, а текстовые - к нижнему регистру\n",
    "def one(df):\n",
    "    for i in df.columns:\n",
    "        try:\n",
    "            if df[i].min() < 0:\n",
    "                df[i] = df[i].abs()\n",
    "        except:\n",
    "            df[i] = df[i].str.lower()"
   ]
  },
  {
   "cell_type": "code",
   "execution_count": 8,
   "metadata": {},
   "outputs": [
    {
     "name": "stdout",
     "output_type": "stream",
     "text": [
      "<class 'pandas.core.frame.DataFrame'>\n",
      "RangeIndex: 21454 entries, 0 to 21453\n",
      "Data columns (total 12 columns):\n",
      " #   Column            Non-Null Count  Dtype \n",
      "---  ------            --------------  ----- \n",
      " 0   children          21454 non-null  int64 \n",
      " 1   days_employed     21454 non-null  int64 \n",
      " 2   dob_years         21454 non-null  int64 \n",
      " 3   education         21454 non-null  object\n",
      " 4   education_id      21454 non-null  int64 \n",
      " 5   family_status     21454 non-null  object\n",
      " 6   family_status_id  21454 non-null  int64 \n",
      " 7   gender            21454 non-null  object\n",
      " 8   income_type       21454 non-null  object\n",
      " 9   debt              21454 non-null  int64 \n",
      " 10  total_income      21454 non-null  int64 \n",
      " 11  purpose           21454 non-null  object\n",
      "dtypes: int64(7), object(5)\n",
      "memory usage: 2.0+ MB\n"
     ]
    }
   ],
   "source": [
    "one(data)\n",
    "data.duplicated().sum()\n",
    "data = data.drop_duplicates().reset_index(drop=True)\n",
    "data.info()"
   ]
  },
  {
   "cell_type": "markdown",
   "metadata": {},
   "source": [
    "#### Вывод"
   ]
  },
  {
   "cell_type": "markdown",
   "metadata": {},
   "source": [
    "Перед обработкой дубликатов необходимо избавиться от заведомо ошибочных отрицательных значений в числовых данных датафрейма и от использования различного регистра написания букв в текстовых данных. Всё это делается при помощи одной функции, использующей внутри себя \"try-except\", где в блоке \"try\" обрабатываются числовые значения, а в \"except\" - текстовые.\n",
    "После этого были найдены и удалены дубликаты, был использован метод drop_duplicates(). Данный метод удаляет только дублирующие строки датафрейма, оставляя их индексы. Для сброса индексов используем метод reset_index()."
   ]
  },
  {
   "cell_type": "markdown",
   "metadata": {},
   "source": [
    "### Лемматизация"
   ]
  },
  {
   "cell_type": "code",
   "execution_count": 9,
   "metadata": {},
   "outputs": [],
   "source": [
    "m = Mystem()\n",
    "# функция на вход получает текст, лемматизирует его, склеивает все лемматизированные слова в одну строку\n",
    "# и возвращает эту строку\n",
    "def lemmfunc(txt): \n",
    "    lemmas = ''.join(m.lemmatize(txt)).replace(\"\\n\",\"\")\n",
    "    return lemmas"
   ]
  },
  {
   "cell_type": "code",
   "execution_count": 10,
   "metadata": {},
   "outputs": [
    {
     "data": {
      "text/html": [
       "<div>\n",
       "<style scoped>\n",
       "    .dataframe tbody tr th:only-of-type {\n",
       "        vertical-align: middle;\n",
       "    }\n",
       "\n",
       "    .dataframe tbody tr th {\n",
       "        vertical-align: top;\n",
       "    }\n",
       "\n",
       "    .dataframe thead th {\n",
       "        text-align: right;\n",
       "    }\n",
       "</style>\n",
       "<table border=\"1\" class=\"dataframe\">\n",
       "  <thead>\n",
       "    <tr style=\"text-align: right;\">\n",
       "      <th></th>\n",
       "      <th>children</th>\n",
       "      <th>days_employed</th>\n",
       "      <th>dob_years</th>\n",
       "      <th>education</th>\n",
       "      <th>education_id</th>\n",
       "      <th>family_status</th>\n",
       "      <th>family_status_id</th>\n",
       "      <th>gender</th>\n",
       "      <th>income_type</th>\n",
       "      <th>debt</th>\n",
       "      <th>total_income</th>\n",
       "      <th>purpose</th>\n",
       "      <th>lemmas</th>\n",
       "    </tr>\n",
       "  </thead>\n",
       "  <tbody>\n",
       "    <tr>\n",
       "      <th>0</th>\n",
       "      <td>1</td>\n",
       "      <td>8437</td>\n",
       "      <td>42</td>\n",
       "      <td>высшее</td>\n",
       "      <td>0</td>\n",
       "      <td>женат / замужем</td>\n",
       "      <td>0</td>\n",
       "      <td>f</td>\n",
       "      <td>сотрудник</td>\n",
       "      <td>0</td>\n",
       "      <td>253875</td>\n",
       "      <td>покупка жилья</td>\n",
       "      <td>покупка жилье</td>\n",
       "    </tr>\n",
       "    <tr>\n",
       "      <th>1</th>\n",
       "      <td>1</td>\n",
       "      <td>4024</td>\n",
       "      <td>36</td>\n",
       "      <td>среднее</td>\n",
       "      <td>1</td>\n",
       "      <td>женат / замужем</td>\n",
       "      <td>0</td>\n",
       "      <td>f</td>\n",
       "      <td>сотрудник</td>\n",
       "      <td>0</td>\n",
       "      <td>112080</td>\n",
       "      <td>приобретение автомобиля</td>\n",
       "      <td>приобретение автомобиль</td>\n",
       "    </tr>\n",
       "    <tr>\n",
       "      <th>2</th>\n",
       "      <td>0</td>\n",
       "      <td>5623</td>\n",
       "      <td>33</td>\n",
       "      <td>среднее</td>\n",
       "      <td>1</td>\n",
       "      <td>женат / замужем</td>\n",
       "      <td>0</td>\n",
       "      <td>m</td>\n",
       "      <td>сотрудник</td>\n",
       "      <td>0</td>\n",
       "      <td>145885</td>\n",
       "      <td>покупка жилья</td>\n",
       "      <td>покупка жилье</td>\n",
       "    </tr>\n",
       "    <tr>\n",
       "      <th>3</th>\n",
       "      <td>3</td>\n",
       "      <td>4124</td>\n",
       "      <td>32</td>\n",
       "      <td>среднее</td>\n",
       "      <td>1</td>\n",
       "      <td>женат / замужем</td>\n",
       "      <td>0</td>\n",
       "      <td>m</td>\n",
       "      <td>сотрудник</td>\n",
       "      <td>0</td>\n",
       "      <td>267628</td>\n",
       "      <td>дополнительное образование</td>\n",
       "      <td>дополнительный образование</td>\n",
       "    </tr>\n",
       "    <tr>\n",
       "      <th>4</th>\n",
       "      <td>0</td>\n",
       "      <td>340266</td>\n",
       "      <td>53</td>\n",
       "      <td>среднее</td>\n",
       "      <td>1</td>\n",
       "      <td>гражданский брак</td>\n",
       "      <td>1</td>\n",
       "      <td>f</td>\n",
       "      <td>пенсионер</td>\n",
       "      <td>0</td>\n",
       "      <td>158616</td>\n",
       "      <td>сыграть свадьбу</td>\n",
       "      <td>сыграть свадьба</td>\n",
       "    </tr>\n",
       "    <tr>\n",
       "      <th>5</th>\n",
       "      <td>0</td>\n",
       "      <td>926</td>\n",
       "      <td>27</td>\n",
       "      <td>высшее</td>\n",
       "      <td>0</td>\n",
       "      <td>гражданский брак</td>\n",
       "      <td>1</td>\n",
       "      <td>m</td>\n",
       "      <td>компаньон</td>\n",
       "      <td>0</td>\n",
       "      <td>255763</td>\n",
       "      <td>покупка жилья</td>\n",
       "      <td>покупка жилье</td>\n",
       "    </tr>\n",
       "    <tr>\n",
       "      <th>6</th>\n",
       "      <td>0</td>\n",
       "      <td>2879</td>\n",
       "      <td>43</td>\n",
       "      <td>высшее</td>\n",
       "      <td>0</td>\n",
       "      <td>женат / замужем</td>\n",
       "      <td>0</td>\n",
       "      <td>f</td>\n",
       "      <td>компаньон</td>\n",
       "      <td>0</td>\n",
       "      <td>240525</td>\n",
       "      <td>операции с жильем</td>\n",
       "      <td>операция с жилье</td>\n",
       "    </tr>\n",
       "    <tr>\n",
       "      <th>7</th>\n",
       "      <td>0</td>\n",
       "      <td>152</td>\n",
       "      <td>50</td>\n",
       "      <td>среднее</td>\n",
       "      <td>1</td>\n",
       "      <td>женат / замужем</td>\n",
       "      <td>0</td>\n",
       "      <td>m</td>\n",
       "      <td>сотрудник</td>\n",
       "      <td>0</td>\n",
       "      <td>135823</td>\n",
       "      <td>образование</td>\n",
       "      <td>образование</td>\n",
       "    </tr>\n",
       "    <tr>\n",
       "      <th>8</th>\n",
       "      <td>2</td>\n",
       "      <td>6929</td>\n",
       "      <td>35</td>\n",
       "      <td>высшее</td>\n",
       "      <td>0</td>\n",
       "      <td>гражданский брак</td>\n",
       "      <td>1</td>\n",
       "      <td>f</td>\n",
       "      <td>сотрудник</td>\n",
       "      <td>0</td>\n",
       "      <td>95856</td>\n",
       "      <td>на проведение свадьбы</td>\n",
       "      <td>на проведение свадьба</td>\n",
       "    </tr>\n",
       "    <tr>\n",
       "      <th>9</th>\n",
       "      <td>0</td>\n",
       "      <td>2188</td>\n",
       "      <td>41</td>\n",
       "      <td>среднее</td>\n",
       "      <td>1</td>\n",
       "      <td>женат / замужем</td>\n",
       "      <td>0</td>\n",
       "      <td>m</td>\n",
       "      <td>сотрудник</td>\n",
       "      <td>0</td>\n",
       "      <td>144425</td>\n",
       "      <td>покупка жилья для семьи</td>\n",
       "      <td>покупка жилье для семья</td>\n",
       "    </tr>\n",
       "  </tbody>\n",
       "</table>\n",
       "</div>"
      ],
      "text/plain": [
       "   children  days_employed  dob_years education  education_id  \\\n",
       "0         1           8437         42    высшее             0   \n",
       "1         1           4024         36   среднее             1   \n",
       "2         0           5623         33   среднее             1   \n",
       "3         3           4124         32   среднее             1   \n",
       "4         0         340266         53   среднее             1   \n",
       "5         0            926         27    высшее             0   \n",
       "6         0           2879         43    высшее             0   \n",
       "7         0            152         50   среднее             1   \n",
       "8         2           6929         35    высшее             0   \n",
       "9         0           2188         41   среднее             1   \n",
       "\n",
       "      family_status  family_status_id gender income_type  debt  total_income  \\\n",
       "0   женат / замужем                 0      f   сотрудник     0        253875   \n",
       "1   женат / замужем                 0      f   сотрудник     0        112080   \n",
       "2   женат / замужем                 0      m   сотрудник     0        145885   \n",
       "3   женат / замужем                 0      m   сотрудник     0        267628   \n",
       "4  гражданский брак                 1      f   пенсионер     0        158616   \n",
       "5  гражданский брак                 1      m   компаньон     0        255763   \n",
       "6   женат / замужем                 0      f   компаньон     0        240525   \n",
       "7   женат / замужем                 0      m   сотрудник     0        135823   \n",
       "8  гражданский брак                 1      f   сотрудник     0         95856   \n",
       "9   женат / замужем                 0      m   сотрудник     0        144425   \n",
       "\n",
       "                      purpose                      lemmas  \n",
       "0               покупка жилья               покупка жилье  \n",
       "1     приобретение автомобиля     приобретение автомобиль  \n",
       "2               покупка жилья               покупка жилье  \n",
       "3  дополнительное образование  дополнительный образование  \n",
       "4             сыграть свадьбу             сыграть свадьба  \n",
       "5               покупка жилья               покупка жилье  \n",
       "6           операции с жильем            операция с жилье  \n",
       "7                 образование                 образование  \n",
       "8       на проведение свадьбы       на проведение свадьба  \n",
       "9     покупка жилья для семьи     покупка жилье для семья  "
      ]
     },
     "metadata": {},
     "output_type": "display_data"
    }
   ],
   "source": [
    "data['lemmas'] = data['purpose'].apply(lemmfunc)\n",
    "display(data.head(10))"
   ]
  },
  {
   "cell_type": "markdown",
   "metadata": {},
   "source": [
    "#### Вывод"
   ]
  },
  {
   "cell_type": "markdown",
   "metadata": {},
   "source": [
    "Для создания категорий целей кредита воспользуемся данными, указанными в столбце 'purpose'. Однако перед этим их нужно лемматизации, чтобы потом их можно было посчитать. При лемматизации используем библиотеку PyMystem, а точнее её метод lemmatize(). "
   ]
  },
  {
   "cell_type": "markdown",
   "metadata": {},
   "source": [
    "### Категоризация данных"
   ]
  },
  {
   "cell_type": "code",
   "execution_count": 11,
   "metadata": {
    "scrolled": false
   },
   "outputs": [
    {
     "data": {
      "text/plain": [
       "Counter({'покупка': 5897,\n",
       "         'жилье': 4460,\n",
       "         'приобретение': 461,\n",
       "         'автомобиль': 4306,\n",
       "         'дополнительный': 906,\n",
       "         'образование': 4013,\n",
       "         'сыграть': 765,\n",
       "         'свадьба': 2324,\n",
       "         'операция': 2604,\n",
       "         'с': 2918,\n",
       "         'на': 2222,\n",
       "         'проведение': 768,\n",
       "         'для': 1289,\n",
       "         'семья': 638,\n",
       "         'недвижимость': 6351,\n",
       "         'коммерческий': 1311,\n",
       "         'жилой': 1230,\n",
       "         'строительство': 1878,\n",
       "         'собственный': 635,\n",
       "         'подержать': 478,\n",
       "         'свой': 2230,\n",
       "         'со': 627,\n",
       "         'заниматься': 904,\n",
       "         'сделка': 941,\n",
       "         'подержанный': 486,\n",
       "         'получение': 1314,\n",
       "         'высокий': 1374,\n",
       "         'профильный': 436,\n",
       "         'сдача': 651,\n",
       "         'ремонт': 607})"
      ]
     },
     "metadata": {},
     "output_type": "display_data"
    },
    {
     "data": {
      "text/plain": [
       "count    2.145400e+04\n",
       "mean     1.653196e+05\n",
       "std      9.818730e+04\n",
       "min      2.066700e+04\n",
       "33%      1.185140e+05\n",
       "50%      1.425940e+05\n",
       "66%      1.723570e+05\n",
       "max      2.265604e+06\n",
       "Name: total_income, dtype: float64"
      ]
     },
     "metadata": {},
     "output_type": "display_data"
    }
   ],
   "source": [
    "purpose = ' '.join(data['lemmas'].tolist()).split()\n",
    "display(Counter(purpose))\n",
    "        \n",
    "display(data['total_income'].describe(percentiles=[0.33,0.66]))"
   ]
  },
  {
   "cell_type": "code",
   "execution_count": 12,
   "metadata": {},
   "outputs": [],
   "source": [
    "#функция для создания категорий целей кредитов\n",
    "def purpose_category(txt): \n",
    "    for word in txt.split(' '):\n",
    "        if word == 'недвижимость':\n",
    "            return 'недвижимость'\n",
    "        if word == 'жилье':\n",
    "            return 'жилье'\n",
    "        if word == 'автомобиль':\n",
    "            return 'автомобиль'\n",
    "        if word == 'образование':\n",
    "            return 'образование'\n",
    "        if word == 'свадьба':\n",
    "            return 'свадьба'\n",
    "        if word == 'ремонт':\n",
    "            return 'ремонт'"
   ]
  },
  {
   "cell_type": "code",
   "execution_count": 13,
   "metadata": {},
   "outputs": [],
   "source": [
    "#функция  для создания категорий уровня заработка\n",
    "def total_income_category(x): \n",
    "    if x < 122163:\n",
    "        return 'Низкий доход'\n",
    "    if 122163 <= x <= 169339:\n",
    "        return 'Средний доход'\n",
    "    return 'Высокий доход'"
   ]
  },
  {
   "cell_type": "code",
   "execution_count": 14,
   "metadata": {},
   "outputs": [],
   "source": [
    "data['purpose_category'] = data['lemmas'].apply(purpose_category) \n",
    "data['total_income_category'] = data['total_income'].apply(total_income_category)"
   ]
  },
  {
   "cell_type": "markdown",
   "metadata": {},
   "source": [
    "#### Вывод"
   ]
  },
  {
   "cell_type": "markdown",
   "metadata": {},
   "source": [
    "Для ответов на вопросы зависимости сроков погашения кредитов от целей кредита и уровня дохода необходимо создать категории по целям кредита и уровню дохода.\n",
    "Для первой категории сначала подсчитываем частоту упоминания слов столбца 'lemmas' и анализируем результат. У нас получается 6 категорий: недвижимость, жилье, автомобиль, образование, свадьба и ремонт. Используя функцию purpose_category() в каждой строке на основании данных столбца 'lemmas' устанавливаем категорию в столбец 'purpose_category'.\n",
    "Категории уровня заработка строим на основании диапазонов величин доходов с помощью функции total_income_category().\n",
    "Затем используя метод apply() и вышеуказанные функции создаем и заполняем столбцы категорий."
   ]
  },
  {
   "cell_type": "markdown",
   "metadata": {},
   "source": [
    "## Ответим на следующие вопросы:"
   ]
  },
  {
   "cell_type": "markdown",
   "metadata": {},
   "source": [
    "### - Есть ли зависимость между наличием детей и возвратом кредита в срок?"
   ]
  },
  {
   "cell_type": "code",
   "execution_count": 15,
   "metadata": {},
   "outputs": [],
   "source": [
    "# функция для создания сводной таблицы, показывающей зависимость возврата кредита в срок от определенного признака\n",
    "def share_of_timely_payment(df, col):\n",
    "    data_pivot = df.pivot_table(index = col, columns = 'debt', values = 'days_employed', aggfunc = 'count')\n",
    "    data_pivot['share_of_timely_payment'] = data_pivot[0]/(data_pivot[0]+data_pivot[1])\n",
    "    return data_pivot.sort_values(by = 'share_of_timely_payment', ascending = False).style.format({'share_of_timely_payment': '{:.2%}'})"
   ]
  },
  {
   "cell_type": "code",
   "execution_count": 16,
   "metadata": {},
   "outputs": [
    {
     "data": {
      "text/html": [
       "<style  type=\"text/css\" >\n",
       "</style><table id=\"T_f5cb4_\" ><thead>    <tr>        <th class=\"index_name level0\" >debt</th>        <th class=\"col_heading level0 col0\" >0</th>        <th class=\"col_heading level0 col1\" >1</th>        <th class=\"col_heading level0 col2\" >share_of_timely_payment</th>    </tr>    <tr>        <th class=\"index_name level0\" >children</th>        <th class=\"blank\" ></th>        <th class=\"blank\" ></th>        <th class=\"blank\" ></th>    </tr></thead><tbody>\n",
       "                <tr>\n",
       "                        <th id=\"T_f5cb4_level0_row0\" class=\"row_heading level0 row0\" >0</th>\n",
       "                        <td id=\"T_f5cb4_row0_col0\" class=\"data row0 col0\" >13028.000000</td>\n",
       "                        <td id=\"T_f5cb4_row0_col1\" class=\"data row0 col1\" >1063.000000</td>\n",
       "                        <td id=\"T_f5cb4_row0_col2\" class=\"data row0 col2\" >92.46%</td>\n",
       "            </tr>\n",
       "            <tr>\n",
       "                        <th id=\"T_f5cb4_level0_row1\" class=\"row_heading level0 row1\" >3</th>\n",
       "                        <td id=\"T_f5cb4_row1_col0\" class=\"data row1 col0\" >303.000000</td>\n",
       "                        <td id=\"T_f5cb4_row1_col1\" class=\"data row1 col1\" >27.000000</td>\n",
       "                        <td id=\"T_f5cb4_row1_col2\" class=\"data row1 col2\" >91.82%</td>\n",
       "            </tr>\n",
       "            <tr>\n",
       "                        <th id=\"T_f5cb4_level0_row2\" class=\"row_heading level0 row2\" >1</th>\n",
       "                        <td id=\"T_f5cb4_row2_col0\" class=\"data row2 col0\" >4410.000000</td>\n",
       "                        <td id=\"T_f5cb4_row2_col1\" class=\"data row2 col1\" >445.000000</td>\n",
       "                        <td id=\"T_f5cb4_row2_col2\" class=\"data row2 col2\" >90.83%</td>\n",
       "            </tr>\n",
       "            <tr>\n",
       "                        <th id=\"T_f5cb4_level0_row3\" class=\"row_heading level0 row3\" >2</th>\n",
       "                        <td id=\"T_f5cb4_row3_col0\" class=\"data row3 col0\" >1858.000000</td>\n",
       "                        <td id=\"T_f5cb4_row3_col1\" class=\"data row3 col1\" >194.000000</td>\n",
       "                        <td id=\"T_f5cb4_row3_col2\" class=\"data row3 col2\" >90.55%</td>\n",
       "            </tr>\n",
       "            <tr>\n",
       "                        <th id=\"T_f5cb4_level0_row4\" class=\"row_heading level0 row4\" >4</th>\n",
       "                        <td id=\"T_f5cb4_row4_col0\" class=\"data row4 col0\" >37.000000</td>\n",
       "                        <td id=\"T_f5cb4_row4_col1\" class=\"data row4 col1\" >4.000000</td>\n",
       "                        <td id=\"T_f5cb4_row4_col2\" class=\"data row4 col2\" >90.24%</td>\n",
       "            </tr>\n",
       "            <tr>\n",
       "                        <th id=\"T_f5cb4_level0_row5\" class=\"row_heading level0 row5\" >20</th>\n",
       "                        <td id=\"T_f5cb4_row5_col0\" class=\"data row5 col0\" >68.000000</td>\n",
       "                        <td id=\"T_f5cb4_row5_col1\" class=\"data row5 col1\" >8.000000</td>\n",
       "                        <td id=\"T_f5cb4_row5_col2\" class=\"data row5 col2\" >89.47%</td>\n",
       "            </tr>\n",
       "            <tr>\n",
       "                        <th id=\"T_f5cb4_level0_row6\" class=\"row_heading level0 row6\" >5</th>\n",
       "                        <td id=\"T_f5cb4_row6_col0\" class=\"data row6 col0\" >9.000000</td>\n",
       "                        <td id=\"T_f5cb4_row6_col1\" class=\"data row6 col1\" >nan</td>\n",
       "                        <td id=\"T_f5cb4_row6_col2\" class=\"data row6 col2\" >nan%</td>\n",
       "            </tr>\n",
       "    </tbody></table>"
      ],
      "text/plain": [
       "<pandas.io.formats.style.Styler at 0x7fc1eb3b7250>"
      ]
     },
     "execution_count": 16,
     "metadata": {},
     "output_type": "execute_result"
    }
   ],
   "source": [
    "share_of_timely_payment(data, 'children')"
   ]
  },
  {
   "cell_type": "markdown",
   "metadata": {},
   "source": [
    "#### Вывод"
   ]
  },
  {
   "cell_type": "markdown",
   "metadata": {},
   "source": [
    "На основании полученных данных можно сделать вывод, что шанс возврата кредита в срок больше, если у заёмщика отсутствуют дети и этот шанс уменьшается по мере роста количества детей."
   ]
  },
  {
   "cell_type": "markdown",
   "metadata": {},
   "source": [
    "### - Есть ли зависимость между семейным положением и возвратом кредита в срок?"
   ]
  },
  {
   "cell_type": "code",
   "execution_count": 17,
   "metadata": {},
   "outputs": [
    {
     "data": {
      "text/html": [
       "<style  type=\"text/css\" >\n",
       "</style><table id=\"T_bf691_\" ><thead>    <tr>        <th class=\"index_name level0\" >debt</th>        <th class=\"col_heading level0 col0\" >0</th>        <th class=\"col_heading level0 col1\" >1</th>        <th class=\"col_heading level0 col2\" >share_of_timely_payment</th>    </tr>    <tr>        <th class=\"index_name level0\" >family_status</th>        <th class=\"blank\" ></th>        <th class=\"blank\" ></th>        <th class=\"blank\" ></th>    </tr></thead><tbody>\n",
       "                <tr>\n",
       "                        <th id=\"T_bf691_level0_row0\" class=\"row_heading level0 row0\" >вдовец / вдова</th>\n",
       "                        <td id=\"T_bf691_row0_col0\" class=\"data row0 col0\" >896</td>\n",
       "                        <td id=\"T_bf691_row0_col1\" class=\"data row0 col1\" >63</td>\n",
       "                        <td id=\"T_bf691_row0_col2\" class=\"data row0 col2\" >93.43%</td>\n",
       "            </tr>\n",
       "            <tr>\n",
       "                        <th id=\"T_bf691_level0_row1\" class=\"row_heading level0 row1\" >в разводе</th>\n",
       "                        <td id=\"T_bf691_row1_col0\" class=\"data row1 col0\" >1110</td>\n",
       "                        <td id=\"T_bf691_row1_col1\" class=\"data row1 col1\" >85</td>\n",
       "                        <td id=\"T_bf691_row1_col2\" class=\"data row1 col2\" >92.89%</td>\n",
       "            </tr>\n",
       "            <tr>\n",
       "                        <th id=\"T_bf691_level0_row2\" class=\"row_heading level0 row2\" >женат / замужем</th>\n",
       "                        <td id=\"T_bf691_row2_col0\" class=\"data row2 col0\" >11408</td>\n",
       "                        <td id=\"T_bf691_row2_col1\" class=\"data row2 col1\" >931</td>\n",
       "                        <td id=\"T_bf691_row2_col2\" class=\"data row2 col2\" >92.45%</td>\n",
       "            </tr>\n",
       "            <tr>\n",
       "                        <th id=\"T_bf691_level0_row3\" class=\"row_heading level0 row3\" >гражданский брак</th>\n",
       "                        <td id=\"T_bf691_row3_col0\" class=\"data row3 col0\" >3763</td>\n",
       "                        <td id=\"T_bf691_row3_col1\" class=\"data row3 col1\" >388</td>\n",
       "                        <td id=\"T_bf691_row3_col2\" class=\"data row3 col2\" >90.65%</td>\n",
       "            </tr>\n",
       "            <tr>\n",
       "                        <th id=\"T_bf691_level0_row4\" class=\"row_heading level0 row4\" >не женат / не замужем</th>\n",
       "                        <td id=\"T_bf691_row4_col0\" class=\"data row4 col0\" >2536</td>\n",
       "                        <td id=\"T_bf691_row4_col1\" class=\"data row4 col1\" >274</td>\n",
       "                        <td id=\"T_bf691_row4_col2\" class=\"data row4 col2\" >90.25%</td>\n",
       "            </tr>\n",
       "    </tbody></table>"
      ],
      "text/plain": [
       "<pandas.io.formats.style.Styler at 0x7fc1ec1899a0>"
      ]
     },
     "execution_count": 17,
     "metadata": {},
     "output_type": "execute_result"
    }
   ],
   "source": [
    "share_of_timely_payment(data, 'family_status')"
   ]
  },
  {
   "cell_type": "code",
   "execution_count": 18,
   "metadata": {},
   "outputs": [
    {
     "data": {
      "text/html": [
       "<style  type=\"text/css\" >\n",
       "</style><table id=\"T_fa7f3_\" ><thead>    <tr>        <th class=\"index_name level0\" >debt</th>        <th class=\"col_heading level0 col0\" >0</th>        <th class=\"col_heading level0 col1\" >1</th>        <th class=\"col_heading level0 col2\" >share_of_timely_payment</th>    </tr>    <tr>        <th class=\"index_name level0\" >family_status</th>        <th class=\"blank\" ></th>        <th class=\"blank\" ></th>        <th class=\"blank\" ></th>    </tr></thead><tbody>\n",
       "                <tr>\n",
       "                        <th id=\"T_fa7f3_level0_row0\" class=\"row_heading level0 row0\" >вдовец / вдова</th>\n",
       "                        <td id=\"T_fa7f3_row0_col0\" class=\"data row0 col0\" >896</td>\n",
       "                        <td id=\"T_fa7f3_row0_col1\" class=\"data row0 col1\" >63</td>\n",
       "                        <td id=\"T_fa7f3_row0_col2\" class=\"data row0 col2\" >93.43%</td>\n",
       "            </tr>\n",
       "            <tr>\n",
       "                        <th id=\"T_fa7f3_level0_row1\" class=\"row_heading level0 row1\" >в разводе</th>\n",
       "                        <td id=\"T_fa7f3_row1_col0\" class=\"data row1 col0\" >1110</td>\n",
       "                        <td id=\"T_fa7f3_row1_col1\" class=\"data row1 col1\" >85</td>\n",
       "                        <td id=\"T_fa7f3_row1_col2\" class=\"data row1 col2\" >92.89%</td>\n",
       "            </tr>\n",
       "            <tr>\n",
       "                        <th id=\"T_fa7f3_level0_row2\" class=\"row_heading level0 row2\" >женат / замужем</th>\n",
       "                        <td id=\"T_fa7f3_row2_col0\" class=\"data row2 col0\" >11408</td>\n",
       "                        <td id=\"T_fa7f3_row2_col1\" class=\"data row2 col1\" >931</td>\n",
       "                        <td id=\"T_fa7f3_row2_col2\" class=\"data row2 col2\" >92.45%</td>\n",
       "            </tr>\n",
       "            <tr>\n",
       "                        <th id=\"T_fa7f3_level0_row3\" class=\"row_heading level0 row3\" >гражданский брак</th>\n",
       "                        <td id=\"T_fa7f3_row3_col0\" class=\"data row3 col0\" >3763</td>\n",
       "                        <td id=\"T_fa7f3_row3_col1\" class=\"data row3 col1\" >388</td>\n",
       "                        <td id=\"T_fa7f3_row3_col2\" class=\"data row3 col2\" >90.65%</td>\n",
       "            </tr>\n",
       "            <tr>\n",
       "                        <th id=\"T_fa7f3_level0_row4\" class=\"row_heading level0 row4\" >не женат / не замужем</th>\n",
       "                        <td id=\"T_fa7f3_row4_col0\" class=\"data row4 col0\" >2536</td>\n",
       "                        <td id=\"T_fa7f3_row4_col1\" class=\"data row4 col1\" >274</td>\n",
       "                        <td id=\"T_fa7f3_row4_col2\" class=\"data row4 col2\" >90.25%</td>\n",
       "            </tr>\n",
       "    </tbody></table>"
      ],
      "text/plain": [
       "<pandas.io.formats.style.Styler at 0x7fc1eb1e7370>"
      ]
     },
     "execution_count": 18,
     "metadata": {},
     "output_type": "execute_result"
    }
   ],
   "source": [
    "share_of_timely_payment(data, 'family_status')"
   ]
  },
  {
   "cell_type": "markdown",
   "metadata": {},
   "source": [
    "#### Вывод"
   ]
  },
  {
   "cell_type": "markdown",
   "metadata": {},
   "source": [
    "На основании собранных данных можно сделать вывод, что шанс возврата кредита в срок выше, если заемщик находится или некогда состоял в браке."
   ]
  },
  {
   "cell_type": "markdown",
   "metadata": {},
   "source": [
    "### - Есть ли зависимость между уровнем дохода и возвратом кредита в срок?"
   ]
  },
  {
   "cell_type": "code",
   "execution_count": 19,
   "metadata": {},
   "outputs": [
    {
     "data": {
      "text/html": [
       "<style  type=\"text/css\" >\n",
       "</style><table id=\"T_53869_\" ><thead>    <tr>        <th class=\"index_name level0\" >debt</th>        <th class=\"col_heading level0 col0\" >0</th>        <th class=\"col_heading level0 col1\" >1</th>        <th class=\"col_heading level0 col2\" >share_of_timely_payment</th>    </tr>    <tr>        <th class=\"index_name level0\" >total_income_category</th>        <th class=\"blank\" ></th>        <th class=\"blank\" ></th>        <th class=\"blank\" ></th>    </tr></thead><tbody>\n",
       "                <tr>\n",
       "                        <th id=\"T_53869_level0_row0\" class=\"row_heading level0 row0\" >Высокий доход</th>\n",
       "                        <td id=\"T_53869_row0_col0\" class=\"data row0 col0\" >7212</td>\n",
       "                        <td id=\"T_53869_row0_col1\" class=\"data row0 col1\" >585</td>\n",
       "                        <td id=\"T_53869_row0_col2\" class=\"data row0 col2\" >92.50%</td>\n",
       "            </tr>\n",
       "            <tr>\n",
       "                        <th id=\"T_53869_level0_row1\" class=\"row_heading level0 row1\" >Низкий доход</th>\n",
       "                        <td id=\"T_53869_row1_col0\" class=\"data row1 col0\" >6853</td>\n",
       "                        <td id=\"T_53869_row1_col1\" class=\"data row1 col1\" >613</td>\n",
       "                        <td id=\"T_53869_row1_col2\" class=\"data row1 col2\" >91.79%</td>\n",
       "            </tr>\n",
       "            <tr>\n",
       "                        <th id=\"T_53869_level0_row2\" class=\"row_heading level0 row2\" >Средний доход</th>\n",
       "                        <td id=\"T_53869_row2_col0\" class=\"data row2 col0\" >5648</td>\n",
       "                        <td id=\"T_53869_row2_col1\" class=\"data row2 col1\" >543</td>\n",
       "                        <td id=\"T_53869_row2_col2\" class=\"data row2 col2\" >91.23%</td>\n",
       "            </tr>\n",
       "    </tbody></table>"
      ],
      "text/plain": [
       "<pandas.io.formats.style.Styler at 0x7fc1eb47b970>"
      ]
     },
     "execution_count": 19,
     "metadata": {},
     "output_type": "execute_result"
    }
   ],
   "source": [
    "share_of_timely_payment(data, 'total_income_category')"
   ]
  },
  {
   "cell_type": "markdown",
   "metadata": {},
   "source": [
    "#### Вывод"
   ]
  },
  {
   "cell_type": "markdown",
   "metadata": {},
   "source": [
    "На основании полученных нельзя сделать однозначный вывод относительно зависимости между уровнем дохода и возвратом кредита в срок."
   ]
  },
  {
   "cell_type": "markdown",
   "metadata": {},
   "source": [
    "### - Как разные цели кредита влияют на его возврат в срок?"
   ]
  },
  {
   "cell_type": "code",
   "execution_count": 20,
   "metadata": {},
   "outputs": [
    {
     "data": {
      "text/html": [
       "<style  type=\"text/css\" >\n",
       "</style><table id=\"T_76bae_\" ><thead>    <tr>        <th class=\"index_name level0\" >debt</th>        <th class=\"col_heading level0 col0\" >0</th>        <th class=\"col_heading level0 col1\" >1</th>        <th class=\"col_heading level0 col2\" >share_of_timely_payment</th>    </tr>    <tr>        <th class=\"index_name level0\" >purpose_category</th>        <th class=\"blank\" ></th>        <th class=\"blank\" ></th>        <th class=\"blank\" ></th>    </tr></thead><tbody>\n",
       "                <tr>\n",
       "                        <th id=\"T_76bae_level0_row0\" class=\"row_heading level0 row0\" >ремонт</th>\n",
       "                        <td id=\"T_76bae_row0_col0\" class=\"data row0 col0\" >572</td>\n",
       "                        <td id=\"T_76bae_row0_col1\" class=\"data row0 col1\" >35</td>\n",
       "                        <td id=\"T_76bae_row0_col2\" class=\"data row0 col2\" >94.23%</td>\n",
       "            </tr>\n",
       "            <tr>\n",
       "                        <th id=\"T_76bae_level0_row1\" class=\"row_heading level0 row1\" >жилье</th>\n",
       "                        <td id=\"T_76bae_row1_col0\" class=\"data row1 col0\" >3580</td>\n",
       "                        <td id=\"T_76bae_row1_col1\" class=\"data row1 col1\" >273</td>\n",
       "                        <td id=\"T_76bae_row1_col2\" class=\"data row1 col2\" >92.91%</td>\n",
       "            </tr>\n",
       "            <tr>\n",
       "                        <th id=\"T_76bae_level0_row2\" class=\"row_heading level0 row2\" >недвижимость</th>\n",
       "                        <td id=\"T_76bae_row2_col0\" class=\"data row2 col0\" >5877</td>\n",
       "                        <td id=\"T_76bae_row2_col1\" class=\"data row2 col1\" >474</td>\n",
       "                        <td id=\"T_76bae_row2_col2\" class=\"data row2 col2\" >92.54%</td>\n",
       "            </tr>\n",
       "            <tr>\n",
       "                        <th id=\"T_76bae_level0_row3\" class=\"row_heading level0 row3\" >свадьба</th>\n",
       "                        <td id=\"T_76bae_row3_col0\" class=\"data row3 col0\" >2138</td>\n",
       "                        <td id=\"T_76bae_row3_col1\" class=\"data row3 col1\" >186</td>\n",
       "                        <td id=\"T_76bae_row3_col2\" class=\"data row3 col2\" >92.00%</td>\n",
       "            </tr>\n",
       "            <tr>\n",
       "                        <th id=\"T_76bae_level0_row4\" class=\"row_heading level0 row4\" >образование</th>\n",
       "                        <td id=\"T_76bae_row4_col0\" class=\"data row4 col0\" >3643</td>\n",
       "                        <td id=\"T_76bae_row4_col1\" class=\"data row4 col1\" >370</td>\n",
       "                        <td id=\"T_76bae_row4_col2\" class=\"data row4 col2\" >90.78%</td>\n",
       "            </tr>\n",
       "            <tr>\n",
       "                        <th id=\"T_76bae_level0_row5\" class=\"row_heading level0 row5\" >автомобиль</th>\n",
       "                        <td id=\"T_76bae_row5_col0\" class=\"data row5 col0\" >3903</td>\n",
       "                        <td id=\"T_76bae_row5_col1\" class=\"data row5 col1\" >403</td>\n",
       "                        <td id=\"T_76bae_row5_col2\" class=\"data row5 col2\" >90.64%</td>\n",
       "            </tr>\n",
       "    </tbody></table>"
      ],
      "text/plain": [
       "<pandas.io.formats.style.Styler at 0x7fc1ea514460>"
      ]
     },
     "execution_count": 20,
     "metadata": {},
     "output_type": "execute_result"
    }
   ],
   "source": [
    "share_of_timely_payment(data, 'purpose_category')"
   ]
  },
  {
   "cell_type": "markdown",
   "metadata": {},
   "source": [
    "#### Вывод"
   ]
  },
  {
   "cell_type": "markdown",
   "metadata": {},
   "source": [
    "На основании полученных данных можно сделать вывод, что наиболее вероятен возврат кредита в срок, если целью кредита была покупка или ремонт недвижимости. Чуть отстает по вероятности возврата в срок кредит с целью \"свадьба\". И наименьшими шанcами возврата в срок обладают кредиты на образование или автомобиль."
   ]
  },
  {
   "cell_type": "markdown",
   "metadata": {},
   "source": [
    "## Общий вывод"
   ]
  },
  {
   "cell_type": "markdown",
   "metadata": {},
   "source": [
    "В исходном датасете присутствовали ошибки и пропуски в данных. Были обработаны только те из них, которые имели значение при выполнении поставленной задачи. Пропуски в стаже были заполнены нулями, так как данные по стажу не играют роли в нашем случае, но пропуски помешали бы в дальнейшей обработке датасета. Пропуски в доходах были заполнены медианными значениями категорий из столбца 'income_type'. \n",
    "Для уменьшения размера таблицы данные, не требующие большой точности, были переведены из формата с плавающей запятой в целочисленный вид.\n",
    "Были убраны дубликаты из нашего набора данных, перед этим все числа таблицы были взяты по модулю, а текстовые значения переведены в нижний регистр.\n",
    "\n",
    "Что же касается поставленных задач, то можно говорить, что шанс возврата кредита в срок зависит от:\n",
    "- **наличия детей** - чем их больше, там меньше шанс своевременного погашения;\n",
    "- **семейного положения** - шанс больше, если человек находится или когда-либо вступал в брак;\n",
    "- **целей кредита** - наибольшим процентом погашения в срок обладает кредит, взятый на покупку или ремонт недвижимости, чуть отстает кредит, взятый на свадьбу.\n",
    "\n",
    "Обобщив вышеописанное можно описать идеального клиента кредитного отдела банка - это человек, не имеющий детей, когда-либо состоявший в браке и берущий кредит на покупку или ремонт недвижимости.\n",
    "Наглядно это можно увидеть в шаге 3, где в каждой таблице привлекательность определенных групп пользователей кредитных продуктов определяется процентом возвратов кредитов в срок.\n",
    "\n",
    "Представителям заказчика, ответственным за выгрузку данных для анализа рекомендуется проверить средства выгрузки данных и привести их к определенному формату: числовые значения не должны быть отрицательными, а текстовые должны быть в нижнем регистре. Так же необходимо обратить внимание на попарные пропуски в столбцах 'days_employed' и 'total_income', вероятно при выгрузке имеется какая-то закономерность, вследствии которой появляются эти пропуски."
   ]
  }
 ],
 "metadata": {
  "ExecuteTimeLog": [
   {
    "duration": 765,
    "start_time": "2021-07-01T12:51:23.454Z"
   },
   {
    "duration": 79,
    "start_time": "2021-07-01T12:51:49.854Z"
   },
   {
    "duration": 98,
    "start_time": "2021-07-01T12:53:11.235Z"
   },
   {
    "duration": 90,
    "start_time": "2021-07-01T13:06:12.863Z"
   },
   {
    "duration": 104,
    "start_time": "2021-07-01T13:10:15.004Z"
   },
   {
    "duration": 34,
    "start_time": "2021-07-01T13:10:37.389Z"
   },
   {
    "duration": 346,
    "start_time": "2021-07-01T13:17:57.397Z"
   },
   {
    "duration": 22,
    "start_time": "2021-07-01T13:18:11.910Z"
   },
   {
    "duration": 322,
    "start_time": "2021-07-01T13:18:40.929Z"
   },
   {
    "duration": 297,
    "start_time": "2021-07-01T13:19:08.650Z"
   },
   {
    "duration": 364,
    "start_time": "2021-07-01T13:27:53.846Z"
   },
   {
    "duration": 1141,
    "start_time": "2021-07-01T13:28:00.601Z"
   },
   {
    "duration": 1630,
    "start_time": "2021-07-01T13:28:51.929Z"
   },
   {
    "duration": 1087,
    "start_time": "2021-07-01T13:29:13.131Z"
   },
   {
    "duration": 1222,
    "start_time": "2021-07-01T13:29:17.811Z"
   },
   {
    "duration": 1651,
    "start_time": "2021-07-01T13:31:31.734Z"
   },
   {
    "duration": 1068,
    "start_time": "2021-07-01T13:31:40.347Z"
   },
   {
    "duration": 394,
    "start_time": "2021-07-01T13:32:07.973Z"
   },
   {
    "duration": 278,
    "start_time": "2021-07-01T13:33:06.008Z"
   },
   {
    "duration": 104,
    "start_time": "2021-07-01T13:33:20.073Z"
   },
   {
    "duration": 53,
    "start_time": "2021-07-01T13:33:23.992Z"
   },
   {
    "duration": 18,
    "start_time": "2021-07-01T13:33:31.597Z"
   },
   {
    "duration": 20,
    "start_time": "2021-07-01T13:33:48.201Z"
   },
   {
    "duration": 258,
    "start_time": "2021-07-01T13:35:55.530Z"
   },
   {
    "duration": 24,
    "start_time": "2021-07-01T13:36:06.633Z"
   },
   {
    "duration": 21,
    "start_time": "2021-07-01T13:36:16.146Z"
   },
   {
    "duration": 22,
    "start_time": "2021-07-01T13:36:33.467Z"
   },
   {
    "duration": 32,
    "start_time": "2021-07-01T13:36:46.588Z"
   },
   {
    "duration": 414,
    "start_time": "2021-07-01T13:41:48.421Z"
   },
   {
    "duration": 155,
    "start_time": "2021-07-01T13:42:02.917Z"
   },
   {
    "duration": 92,
    "start_time": "2021-07-01T13:46:44.869Z"
   },
   {
    "duration": 16,
    "start_time": "2021-07-01T13:46:52.277Z"
   },
   {
    "duration": 279,
    "start_time": "2021-07-01T13:48:29.443Z"
   },
   {
    "duration": 112,
    "start_time": "2021-07-01T13:48:47.261Z"
   },
   {
    "duration": 50,
    "start_time": "2021-07-01T13:48:50.965Z"
   },
   {
    "duration": 20,
    "start_time": "2021-07-01T13:48:54.476Z"
   },
   {
    "duration": 152,
    "start_time": "2021-07-01T13:48:57.260Z"
   },
   {
    "duration": 677,
    "start_time": "2021-07-01T13:48:59.965Z"
   },
   {
    "duration": 286,
    "start_time": "2021-07-01T13:49:32.543Z"
   },
   {
    "duration": 641,
    "start_time": "2021-07-01T13:50:06.984Z"
   },
   {
    "duration": 7,
    "start_time": "2021-07-01T13:50:47.923Z"
   },
   {
    "duration": 4684,
    "start_time": "2021-07-01T13:53:11.667Z"
   },
   {
    "duration": 5282,
    "start_time": "2021-07-01T13:54:25.672Z"
   },
   {
    "duration": 5597,
    "start_time": "2021-07-01T13:55:06.873Z"
   },
   {
    "duration": 5261,
    "start_time": "2021-07-01T13:55:44.036Z"
   },
   {
    "duration": 4727,
    "start_time": "2021-07-01T13:56:24.261Z"
   },
   {
    "duration": 4813,
    "start_time": "2021-07-01T13:56:58.160Z"
   },
   {
    "duration": 22,
    "start_time": "2021-07-01T14:15:53.800Z"
   },
   {
    "duration": 292,
    "start_time": "2021-07-01T14:24:54.053Z"
   },
   {
    "duration": 371,
    "start_time": "2021-07-01T14:25:21.944Z"
   },
   {
    "duration": 661,
    "start_time": "2021-07-01T14:26:28.483Z"
   },
   {
    "duration": 353,
    "start_time": "2021-07-01T14:29:15.283Z"
   },
   {
    "duration": 330,
    "start_time": "2021-07-01T14:30:46.888Z"
   },
   {
    "duration": 336,
    "start_time": "2021-07-01T14:31:10.210Z"
   },
   {
    "duration": 319,
    "start_time": "2021-07-01T14:31:23.362Z"
   },
   {
    "duration": 74,
    "start_time": "2021-07-01T14:31:45.027Z"
   },
   {
    "duration": 75,
    "start_time": "2021-07-01T14:49:02.446Z"
   },
   {
    "duration": 93,
    "start_time": "2021-07-01T15:00:22.058Z"
   },
   {
    "duration": 65,
    "start_time": "2021-07-01T15:01:02.981Z"
   },
   {
    "duration": 68,
    "start_time": "2021-07-01T15:01:26.750Z"
   },
   {
    "duration": 56,
    "start_time": "2021-07-01T15:02:05.496Z"
   },
   {
    "duration": 68,
    "start_time": "2021-07-01T15:02:23.545Z"
   },
   {
    "duration": 422,
    "start_time": "2021-07-01T17:24:31.567Z"
   },
   {
    "duration": 952,
    "start_time": "2021-07-01T17:24:41.839Z"
   },
   {
    "duration": 51,
    "start_time": "2021-07-01T17:24:46.487Z"
   },
   {
    "duration": 20,
    "start_time": "2021-07-01T17:24:50.150Z"
   },
   {
    "duration": 241,
    "start_time": "2021-07-01T17:24:53.398Z"
   },
   {
    "duration": 5029,
    "start_time": "2021-07-01T17:24:56.919Z"
   },
   {
    "duration": 90,
    "start_time": "2021-07-01T17:25:05.551Z"
   },
   {
    "duration": 29,
    "start_time": "2021-07-01T17:25:11.663Z"
   },
   {
    "duration": 30,
    "start_time": "2021-07-01T17:25:33.700Z"
   },
   {
    "duration": 38,
    "start_time": "2021-07-01T17:30:14.152Z"
   },
   {
    "duration": 31,
    "start_time": "2021-07-01T17:31:09.939Z"
   },
   {
    "duration": 32,
    "start_time": "2021-07-01T17:39:28.463Z"
   },
   {
    "duration": 52,
    "start_time": "2021-07-01T17:39:47.441Z"
   },
   {
    "duration": 30,
    "start_time": "2021-07-01T17:40:04.337Z"
   },
   {
    "duration": 29,
    "start_time": "2021-07-01T17:40:47.614Z"
   },
   {
    "duration": 867,
    "start_time": "2021-07-01T17:41:35.549Z"
   },
   {
    "duration": 53,
    "start_time": "2021-07-01T17:41:36.420Z"
   },
   {
    "duration": 49,
    "start_time": "2021-07-01T17:41:36.476Z"
   },
   {
    "duration": 181,
    "start_time": "2021-07-01T17:41:36.528Z"
   },
   {
    "duration": 4758,
    "start_time": "2021-07-01T17:41:36.711Z"
   },
   {
    "duration": 90,
    "start_time": "2021-07-01T17:41:41.473Z"
   },
   {
    "duration": 67,
    "start_time": "2021-07-01T17:41:41.566Z"
   },
   {
    "duration": 31,
    "start_time": "2021-07-01T17:41:41.636Z"
   },
   {
    "duration": 44,
    "start_time": "2021-07-01T17:41:41.670Z"
   },
   {
    "duration": 31,
    "start_time": "2021-07-01T17:41:41.717Z"
   },
   {
    "duration": 912,
    "start_time": "2021-07-01T20:21:44.026Z"
   },
   {
    "duration": 55,
    "start_time": "2021-07-01T20:21:44.940Z"
   },
   {
    "duration": 19,
    "start_time": "2021-07-01T20:21:44.998Z"
   },
   {
    "duration": 179,
    "start_time": "2021-07-01T20:21:45.020Z"
   },
   {
    "duration": 4490,
    "start_time": "2021-07-01T20:21:45.201Z"
   },
   {
    "duration": 95,
    "start_time": "2021-07-01T20:21:49.695Z"
   },
   {
    "duration": 41,
    "start_time": "2021-07-01T20:21:49.792Z"
   },
   {
    "duration": 47,
    "start_time": "2021-07-01T20:21:49.835Z"
   },
   {
    "duration": 29,
    "start_time": "2021-07-01T20:21:49.885Z"
   },
   {
    "duration": 59,
    "start_time": "2021-07-01T20:21:49.916Z"
   },
   {
    "duration": 21,
    "start_time": "2021-07-01T21:20:44.231Z"
   },
   {
    "duration": 443,
    "start_time": "2021-07-01T21:22:15.636Z"
   },
   {
    "duration": 5668,
    "start_time": "2021-07-01T21:22:50.018Z"
   },
   {
    "duration": 365,
    "start_time": "2021-07-02T00:43:10.854Z"
   },
   {
    "duration": 911,
    "start_time": "2021-07-02T00:43:33.294Z"
   },
   {
    "duration": 45,
    "start_time": "2021-07-02T00:49:09.224Z"
   },
   {
    "duration": 49,
    "start_time": "2021-07-02T00:49:26.473Z"
   },
   {
    "duration": 35,
    "start_time": "2021-07-02T00:49:37.226Z"
   },
   {
    "duration": 20,
    "start_time": "2021-07-02T00:50:29.764Z"
   },
   {
    "duration": 137,
    "start_time": "2021-07-02T00:50:38.525Z"
   },
   {
    "duration": 4682,
    "start_time": "2021-07-02T00:51:04.118Z"
   },
   {
    "duration": 125,
    "start_time": "2021-07-02T00:51:18.880Z"
   },
   {
    "duration": 44,
    "start_time": "2021-07-02T00:52:07.545Z"
   },
   {
    "duration": 39,
    "start_time": "2021-07-02T00:52:40.412Z"
   },
   {
    "duration": 28,
    "start_time": "2021-07-02T00:52:59.156Z"
   },
   {
    "duration": 32,
    "start_time": "2021-07-02T01:02:39.612Z"
   },
   {
    "duration": 35,
    "start_time": "2021-07-02T01:04:39.386Z"
   },
   {
    "duration": 926,
    "start_time": "2021-07-02T08:34:07.512Z"
   },
   {
    "duration": 37,
    "start_time": "2021-07-02T08:34:08.441Z"
   },
   {
    "duration": 41,
    "start_time": "2021-07-02T08:34:08.481Z"
   },
   {
    "duration": 165,
    "start_time": "2021-07-02T08:34:08.525Z"
   },
   {
    "duration": 4668,
    "start_time": "2021-07-02T08:34:08.693Z"
   },
   {
    "duration": 91,
    "start_time": "2021-07-02T08:34:13.364Z"
   },
   {
    "duration": 67,
    "start_time": "2021-07-02T08:34:13.457Z"
   },
   {
    "duration": 30,
    "start_time": "2021-07-02T08:34:13.528Z"
   },
   {
    "duration": 838,
    "start_time": "2021-07-02T08:34:13.560Z"
   },
   {
    "duration": 37,
    "start_time": "2021-07-02T08:34:14.401Z"
   },
   {
    "duration": 29,
    "start_time": "2021-07-02T08:34:14.441Z"
   },
   {
    "duration": 839,
    "start_time": "2021-07-02T08:35:37.558Z"
   },
   {
    "duration": 41,
    "start_time": "2021-07-02T08:35:38.400Z"
   },
   {
    "duration": 20,
    "start_time": "2021-07-02T08:35:38.444Z"
   },
   {
    "duration": 185,
    "start_time": "2021-07-02T08:35:38.467Z"
   },
   {
    "duration": 4620,
    "start_time": "2021-07-02T08:35:38.654Z"
   },
   {
    "duration": 98,
    "start_time": "2021-07-02T08:35:43.278Z"
   },
   {
    "duration": 67,
    "start_time": "2021-07-02T08:35:43.379Z"
   },
   {
    "duration": 32,
    "start_time": "2021-07-02T08:35:43.451Z"
   },
   {
    "duration": 803,
    "start_time": "2021-07-02T08:35:43.508Z"
   },
   {
    "duration": 34,
    "start_time": "2021-07-02T08:35:44.314Z"
   },
   {
    "duration": 29,
    "start_time": "2021-07-02T08:35:44.350Z"
   },
   {
    "duration": 33,
    "start_time": "2021-07-02T08:38:33.864Z"
   },
   {
    "duration": 28,
    "start_time": "2021-07-02T08:39:41.804Z"
   },
   {
    "duration": 26,
    "start_time": "2021-07-02T08:40:25.918Z"
   },
   {
    "duration": 9,
    "start_time": "2021-07-02T08:43:34.809Z"
   },
   {
    "duration": 14,
    "start_time": "2021-07-02T08:47:20.477Z"
   },
   {
    "duration": 561,
    "start_time": "2021-07-02T08:49:32.548Z"
   },
   {
    "duration": 15,
    "start_time": "2021-07-02T08:49:40.052Z"
   },
   {
    "duration": 295,
    "start_time": "2021-07-02T08:54:42.041Z"
   },
   {
    "duration": 285,
    "start_time": "2021-07-02T08:55:30.357Z"
   },
   {
    "duration": 366,
    "start_time": "2021-07-02T09:05:07.679Z"
   },
   {
    "duration": 50,
    "start_time": "2021-07-02T09:05:18.239Z"
   },
   {
    "duration": 131,
    "start_time": "2021-07-02T09:05:47.221Z"
   },
   {
    "duration": 424,
    "start_time": "2021-07-02T09:06:31.606Z"
   },
   {
    "duration": 25,
    "start_time": "2021-07-02T09:07:15.521Z"
   },
   {
    "duration": 160,
    "start_time": "2021-07-02T09:14:21.203Z"
   },
   {
    "duration": 374,
    "start_time": "2021-07-02T09:14:28.472Z"
   },
   {
    "duration": 28,
    "start_time": "2021-07-02T09:14:51.994Z"
   },
   {
    "duration": 42,
    "start_time": "2021-07-02T09:16:23.511Z"
   },
   {
    "duration": 65,
    "start_time": "2021-07-02T09:16:52.257Z"
   },
   {
    "duration": 309,
    "start_time": "2021-07-02T09:27:12.916Z"
   },
   {
    "duration": 325,
    "start_time": "2021-07-02T09:27:51.964Z"
   },
   {
    "duration": 325,
    "start_time": "2021-07-02T09:28:27.397Z"
   },
   {
    "duration": 108,
    "start_time": "2021-07-02T09:29:02.319Z"
   },
   {
    "duration": 234,
    "start_time": "2021-07-02T09:29:07.911Z"
   },
   {
    "duration": 223,
    "start_time": "2021-07-02T09:32:31.801Z"
   },
   {
    "duration": 222,
    "start_time": "2021-07-02T09:33:09.428Z"
   },
   {
    "duration": 21,
    "start_time": "2021-07-02T09:36:48.535Z"
   },
   {
    "duration": 154,
    "start_time": "2021-07-02T09:36:59.608Z"
   },
   {
    "duration": 959,
    "start_time": "2021-07-03T07:20:04.712Z"
   },
   {
    "duration": 204,
    "start_time": "2021-07-03T07:20:54.485Z"
   },
   {
    "duration": 19,
    "start_time": "2021-07-03T07:21:10.801Z"
   },
   {
    "duration": 144,
    "start_time": "2021-07-03T07:21:23.957Z"
   },
   {
    "duration": 4766,
    "start_time": "2021-07-03T07:22:12.145Z"
   },
   {
    "duration": 173,
    "start_time": "2021-07-03T08:26:22.028Z"
   },
   {
    "duration": 47,
    "start_time": "2021-07-03T08:27:06.928Z"
   },
   {
    "duration": 32,
    "start_time": "2021-07-03T08:31:42.118Z"
   },
   {
    "duration": 819,
    "start_time": "2021-07-03T08:33:48.460Z"
   },
   {
    "duration": 34,
    "start_time": "2021-07-03T08:37:08.111Z"
   },
   {
    "duration": 27,
    "start_time": "2021-07-03T08:37:48.554Z"
   },
   {
    "duration": 27,
    "start_time": "2021-07-03T08:38:05.574Z"
   },
   {
    "duration": 30,
    "start_time": "2021-07-03T08:58:41.479Z"
   },
   {
    "duration": 868,
    "start_time": "2021-07-03T13:20:47.175Z"
   },
   {
    "duration": 221,
    "start_time": "2021-07-03T13:20:48.045Z"
   },
   {
    "duration": 27,
    "start_time": "2021-07-03T13:20:48.269Z"
   },
   {
    "duration": 153,
    "start_time": "2021-07-03T13:20:48.299Z"
   },
   {
    "duration": 4644,
    "start_time": "2021-07-03T13:20:48.455Z"
   },
   {
    "duration": 93,
    "start_time": "2021-07-03T13:20:53.102Z"
   },
   {
    "duration": 781,
    "start_time": "2021-07-03T13:20:53.198Z"
   },
   {
    "duration": 36,
    "start_time": "2021-07-03T13:20:53.983Z"
   },
   {
    "duration": 29,
    "start_time": "2021-07-03T13:20:54.022Z"
   },
   {
    "duration": 54,
    "start_time": "2021-07-03T13:20:54.054Z"
   },
   {
    "duration": 30,
    "start_time": "2021-07-03T13:20:54.110Z"
   },
   {
    "duration": 297,
    "start_time": "2021-07-03T13:57:41.923Z"
   },
   {
    "duration": 123,
    "start_time": "2021-07-03T13:58:08.195Z"
   },
   {
    "duration": 203,
    "start_time": "2021-07-03T13:58:23.211Z"
   },
   {
    "duration": 212,
    "start_time": "2021-07-03T13:59:40.144Z"
   },
   {
    "duration": 210,
    "start_time": "2021-07-03T13:59:52.103Z"
   },
   {
    "duration": 212,
    "start_time": "2021-07-03T14:00:13.764Z"
   },
   {
    "duration": 685,
    "start_time": "2022-07-22T11:11:58.959Z"
   },
   {
    "duration": 400,
    "start_time": "2022-07-25T07:05:26.229Z"
   },
   {
    "duration": 274,
    "start_time": "2022-07-25T07:05:26.631Z"
   },
   {
    "duration": 31,
    "start_time": "2022-07-25T07:05:26.907Z"
   },
   {
    "duration": 111,
    "start_time": "2022-07-25T07:05:26.939Z"
   },
   {
    "duration": 21,
    "start_time": "2022-07-25T07:05:27.052Z"
   },
   {
    "duration": 114,
    "start_time": "2022-07-25T07:05:27.075Z"
   },
   {
    "duration": 3459,
    "start_time": "2022-07-25T07:05:27.191Z"
   },
   {
    "duration": 50,
    "start_time": "2022-07-25T07:05:30.664Z"
   },
   {
    "duration": 509,
    "start_time": "2022-07-25T07:05:30.716Z"
   },
   {
    "duration": 21,
    "start_time": "2022-07-25T07:05:31.227Z"
   },
   {
    "duration": 35,
    "start_time": "2022-07-25T07:05:31.249Z"
   },
   {
    "duration": 16,
    "start_time": "2022-07-25T07:05:31.286Z"
   },
   {
    "duration": 27,
    "start_time": "2022-07-25T07:05:31.304Z"
   },
   {
    "duration": 38,
    "start_time": "2022-07-25T07:10:09.327Z"
   },
   {
    "duration": 410,
    "start_time": "2022-07-25T07:10:22.409Z"
   },
   {
    "duration": 71,
    "start_time": "2022-07-25T07:10:22.822Z"
   },
   {
    "duration": 35,
    "start_time": "2022-07-25T07:10:22.895Z"
   },
   {
    "duration": 44,
    "start_time": "2022-07-25T07:10:22.931Z"
   },
   {
    "duration": 16,
    "start_time": "2022-07-25T07:10:22.977Z"
   },
   {
    "duration": 117,
    "start_time": "2022-07-25T07:10:22.995Z"
   },
   {
    "duration": 3284,
    "start_time": "2022-07-25T07:10:23.113Z"
   },
   {
    "duration": 65,
    "start_time": "2022-07-25T07:10:26.399Z"
   },
   {
    "duration": 275,
    "start_time": "2022-07-25T07:10:26.465Z"
   },
   {
    "duration": 18,
    "start_time": "2022-07-25T07:10:26.741Z"
   },
   {
    "duration": 15,
    "start_time": "2022-07-25T07:10:26.764Z"
   },
   {
    "duration": 15,
    "start_time": "2022-07-25T07:10:26.781Z"
   },
   {
    "duration": 14,
    "start_time": "2022-07-25T07:10:26.797Z"
   },
   {
    "duration": 10,
    "start_time": "2022-07-25T07:11:47.872Z"
   },
   {
    "duration": 32,
    "start_time": "2022-07-25T07:12:05.465Z"
   },
   {
    "duration": 421,
    "start_time": "2022-07-25T07:19:53.236Z"
   },
   {
    "duration": 75,
    "start_time": "2022-07-25T07:19:53.659Z"
   },
   {
    "duration": 33,
    "start_time": "2022-07-25T07:19:53.736Z"
   },
   {
    "duration": 5,
    "start_time": "2022-07-25T07:19:53.771Z"
   },
   {
    "duration": 26,
    "start_time": "2022-07-25T07:19:53.778Z"
   },
   {
    "duration": 14,
    "start_time": "2022-07-25T07:19:53.806Z"
   },
   {
    "duration": 132,
    "start_time": "2022-07-25T07:19:53.822Z"
   },
   {
    "duration": 10,
    "start_time": "2022-07-25T07:19:53.955Z"
   },
   {
    "duration": 3233,
    "start_time": "2022-07-25T07:19:53.966Z"
   },
   {
    "duration": 4,
    "start_time": "2022-07-25T07:19:57.202Z"
   },
   {
    "duration": 12,
    "start_time": "2022-07-25T07:19:57.207Z"
   },
   {
    "duration": 28,
    "start_time": "2022-07-25T07:19:57.221Z"
   },
   {
    "duration": 32,
    "start_time": "2022-07-25T07:19:57.251Z"
   },
   {
    "duration": 307,
    "start_time": "2022-07-25T07:19:57.285Z"
   },
   {
    "duration": 17,
    "start_time": "2022-07-25T07:19:57.594Z"
   },
   {
    "duration": 15,
    "start_time": "2022-07-25T07:19:57.613Z"
   },
   {
    "duration": 14,
    "start_time": "2022-07-25T07:19:57.629Z"
   },
   {
    "duration": 15,
    "start_time": "2022-07-25T07:19:57.663Z"
   },
   {
    "duration": 4,
    "start_time": "2022-07-25T07:20:22.350Z"
   },
   {
    "duration": 5,
    "start_time": "2022-07-25T07:20:28.542Z"
   },
   {
    "duration": 4,
    "start_time": "2022-07-25T07:23:01.920Z"
   },
   {
    "duration": 384,
    "start_time": "2022-07-25T07:39:30.587Z"
   },
   {
    "duration": 86,
    "start_time": "2022-07-25T07:39:30.973Z"
   },
   {
    "duration": 35,
    "start_time": "2022-07-25T07:39:31.061Z"
   },
   {
    "duration": 7,
    "start_time": "2022-07-25T07:39:31.097Z"
   },
   {
    "duration": 42,
    "start_time": "2022-07-25T07:39:31.106Z"
   },
   {
    "duration": 18,
    "start_time": "2022-07-25T07:39:31.149Z"
   },
   {
    "duration": 113,
    "start_time": "2022-07-25T07:39:31.169Z"
   },
   {
    "duration": 4,
    "start_time": "2022-07-25T07:39:31.283Z"
   },
   {
    "duration": 3495,
    "start_time": "2022-07-25T07:39:31.288Z"
   },
   {
    "duration": 28,
    "start_time": "2022-07-25T07:39:34.785Z"
   },
   {
    "duration": 3,
    "start_time": "2022-07-25T07:39:34.815Z"
   },
   {
    "duration": 5,
    "start_time": "2022-07-25T07:39:34.820Z"
   },
   {
    "duration": 39,
    "start_time": "2022-07-25T07:39:34.826Z"
   },
   {
    "duration": 4,
    "start_time": "2022-07-25T07:39:34.867Z"
   },
   {
    "duration": 294,
    "start_time": "2022-07-25T07:39:34.873Z"
   },
   {
    "duration": 20,
    "start_time": "2022-07-25T07:39:35.168Z"
   },
   {
    "duration": 16,
    "start_time": "2022-07-25T07:39:35.190Z"
   },
   {
    "duration": 15,
    "start_time": "2022-07-25T07:39:35.208Z"
   },
   {
    "duration": 40,
    "start_time": "2022-07-25T07:39:35.225Z"
   },
   {
    "duration": 441,
    "start_time": "2022-07-25T08:18:30.135Z"
   },
   {
    "duration": 74,
    "start_time": "2022-07-25T08:18:30.578Z"
   },
   {
    "duration": 37,
    "start_time": "2022-07-25T08:18:30.654Z"
   },
   {
    "duration": 6,
    "start_time": "2022-07-25T08:18:30.693Z"
   },
   {
    "duration": 36,
    "start_time": "2022-07-25T08:18:30.701Z"
   },
   {
    "duration": 38,
    "start_time": "2022-07-25T08:18:30.740Z"
   },
   {
    "duration": 19,
    "start_time": "2022-07-25T08:18:30.780Z"
   },
   {
    "duration": 132,
    "start_time": "2022-07-25T08:18:30.801Z"
   },
   {
    "duration": 4,
    "start_time": "2022-07-25T08:18:30.935Z"
   },
   {
    "duration": 3307,
    "start_time": "2022-07-25T08:18:30.941Z"
   },
   {
    "duration": 32,
    "start_time": "2022-07-25T08:18:34.250Z"
   },
   {
    "duration": 9,
    "start_time": "2022-07-25T08:18:34.283Z"
   },
   {
    "duration": 10,
    "start_time": "2022-07-25T08:18:34.294Z"
   },
   {
    "duration": 30,
    "start_time": "2022-07-25T08:18:34.307Z"
   },
   {
    "duration": 29,
    "start_time": "2022-07-25T08:18:34.339Z"
   },
   {
    "duration": 274,
    "start_time": "2022-07-25T08:18:34.370Z"
   },
   {
    "duration": 29,
    "start_time": "2022-07-25T08:18:34.646Z"
   },
   {
    "duration": 20,
    "start_time": "2022-07-25T08:18:34.677Z"
   },
   {
    "duration": 21,
    "start_time": "2022-07-25T08:18:34.699Z"
   },
   {
    "duration": 43,
    "start_time": "2022-07-25T08:18:34.721Z"
   }
  ],
  "kernelspec": {
   "display_name": "Python 3 (ipykernel)",
   "language": "python",
   "name": "python3"
  },
  "language_info": {
   "codemirror_mode": {
    "name": "ipython",
    "version": 3
   },
   "file_extension": ".py",
   "mimetype": "text/x-python",
   "name": "python",
   "nbconvert_exporter": "python",
   "pygments_lexer": "ipython3",
   "version": "3.9.5"
  },
  "toc": {
   "base_numbering": 1,
   "nav_menu": {},
   "number_sections": true,
   "sideBar": true,
   "skip_h1_title": true,
   "title_cell": "Table of Contents",
   "title_sidebar": "Contents",
   "toc_cell": false,
   "toc_position": {},
   "toc_section_display": true,
   "toc_window_display": true
  }
 },
 "nbformat": 4,
 "nbformat_minor": 2
}
